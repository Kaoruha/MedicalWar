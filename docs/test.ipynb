{
 "cells": [
  {
   "cell_type": "code",
   "execution_count": 2,
   "metadata": {},
   "outputs": [],
   "source": [
    "import pandas as pd"
   ]
  },
  {
   "cell_type": "code",
   "execution_count": 8,
   "metadata": {},
   "outputs": [
    {
     "name": "stdout",
     "output_type": "stream",
     "text": [
      "  公司名称      总资金  可分配人数  人力成本  渠道牌价格  渠道牌剩余数量  准入牌价格  准入牌剩余数量  信息牌价格  信息牌剩余数量  \\\n",
      "0  A公司  2000000     27  1000   1000       10   1000       10   1000       10   \n",
      "1  B公司  1200000     17   800   1000       10   1000        3   1000       10   \n",
      "2  C公司  1300000     14  1000   1000       15   2000        6   1000       10   \n",
      "3  D公司   800000      8   800   1000       15   2000        3   1000       10   \n",
      "\n",
      "   营收  \n",
      "0   0  \n",
      "1   0  \n",
      "2   0  \n",
      "3   0  \n"
     ]
    }
   ],
   "source": [
    "# path = '../app/data/mould/companyInfo.xlsx'\n",
    "path = '../app/data/game_测试游戏1/round1/companyInfo.csv'\n",
    "df= pd.read_csv(path)\n",
    "print(df)"
   ]
  },
  {
   "cell_type": "code",
   "execution_count": 9,
   "metadata": {},
   "outputs": [
    {
     "name": "stdout",
     "output_type": "stream",
     "text": [
      "0\n",
      "1\n",
      "2\n",
      "3\n"
     ]
    }
   ],
   "source": [
    "for index, row in df.iterrows():\n",
    "    print(index)"
   ]
  }
 ],
 "metadata": {
  "kernelspec": {
   "display_name": "Python 3",
   "language": "python",
   "name": "python3"
  },
  "language_info": {
   "codemirror_mode": {
    "name": "ipython",
    "version": 3
   },
   "file_extension": ".py",
   "mimetype": "text/x-python",
   "name": "python",
   "nbconvert_exporter": "python",
   "pygments_lexer": "ipython3",
   "version": "3.8.3"
  }
 },
 "nbformat": 4,
 "nbformat_minor": 4
}
